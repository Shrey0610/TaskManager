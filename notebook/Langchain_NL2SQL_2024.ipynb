{
  "cells": [
    {
      "cell_type": "markdown",
      "metadata": {
        "id": "up5XHcGdVon2"
      },
      "source": [
        "\n",
        "1. Building a basic NL2SQL model\n",
        "2. Adding few-shot examples\n",
        "3. Dynamic few-shot example selection\n",
        "4. Dynamic relevant table selection (Large DB Isssue)\n",
        "5. Customizing prompts\n",
        "6. Adding memory to the chatbot so that it answers follow-up questions related to the database."
      ]
    },
    {
      "cell_type": "markdown",
      "metadata": {
        "id": "zROkmBChhBWy"
      },
      "source": [
        "https://www.mysqltutorial.org/getting-started-with-mysql/mysql-sample-database/"
      ]
    },
    {
      "cell_type": "code",
      "execution_count": 1,
      "metadata": {
        "id": "c91p9Ep90S9j"
      },
      "outputs": [],
      "source": [
        "db_user = \"root\"\n",
        "db_password = \"\"\n",
        "db_host = \"localhost\"\n",
        "db_name = \"node-sql_test\""
      ]
    },
    {
      "cell_type": "markdown",
      "metadata": {
        "id": "OQJ4HJ-6WYjk"
      },
      "source": [
        "###Building a basic NL2SQL model"
      ]
    },
    {
      "cell_type": "code",
      "execution_count": 2,
      "metadata": {},
      "outputs": [],
      "source": [
        "from langchain_community.utilities.sql_database import SQLDatabase\n",
        "# db = SQLDatabase.from_uri(f\"mysql+pymysql://{db_user}:{db_password}@{db_host}/{db_name}\",sample_rows_in_table_info=1,include_tables=['customers','orders'],custom_table_info={'customers':\"customer\"})\n",
        "db = SQLDatabase.from_uri(\"mysql+pymysql://root:@localhost:3307/node-sql_test\")"
      ]
    },
    {
      "cell_type": "code",
      "execution_count": 3,
      "metadata": {
        "colab": {
          "base_uri": "https://localhost:8080/"
        },
        "id": "4KJLTIDG0YJ5",
        "outputId": "60c4ca6a-19d2-4511-cd72-1b32aa358cf2"
      },
      "outputs": [
        {
          "name": "stdout",
          "output_type": "stream",
          "text": [
            "mysql\n",
            "['assignees', 'beers', 'tasks']\n",
            "\n",
            "CREATE TABLE assignees (\n",
            "\tid INTEGER(11) NOT NULL AUTO_INCREMENT, \n",
            "\tname VARCHAR(255) NOT NULL, \n",
            "\temail VARCHAR(320) NOT NULL, \n",
            "\t`phoneNum` INTEGER(11) NOT NULL, \n",
            "\tdob DATE NOT NULL, \n",
            "\tPRIMARY KEY (id)\n",
            ")DEFAULT CHARSET=utf8mb4 COLLATE utf8mb4_general_ci ENGINE=InnoDB\n",
            "\n",
            "/*\n",
            "3 rows from assignees table:\n",
            "id\tname\temail\tphoneNum\tdob\n",
            "1\tAakash\taakash@example.com\t123456789\t1994-09-22\n",
            "2\tPrithvi\tprithvi@example.com\t121212121\t1989-07-14\n",
            "3\tJal\tjal@example.com\t82345438\t2003-09-29\n",
            "*/\n",
            "\n",
            "\n",
            "CREATE TABLE beers (\n",
            "\tid BIGINT(20) NOT NULL AUTO_INCREMENT, \n",
            "\tname VARCHAR(255) NOT NULL, \n",
            "\tvariety VARCHAR(255) NOT NULL, \n",
            "\tdescription TEXT NOT NULL, \n",
            "\timage VARCHAR(50) NOT NULL, \n",
            "\tPRIMARY KEY (id)\n",
            ")DEFAULT CHARSET=utf8mb4 COLLATE utf8mb4_general_ci ENGINE=InnoDB\n",
            "\n",
            "/*\n",
            "3 rows from beers table:\n",
            "id\tname\tvariety\tdescription\timage\n",
            "1\tBuzz\tdjsbdkjn\tdunk;lnsnknd \tnfnsdnknkndn\n",
            "2\tIDK\tjdjsnnksf\tlkdk\tjdkskjsd\n",
            "3\tIDK2\tjdjsnnf\tkdk\tjdd\n",
            "*/\n",
            "\n",
            "\n",
            "CREATE TABLE tasks (\n",
            "\tid INTEGER(11) NOT NULL AUTO_INCREMENT, \n",
            "\tname VARCHAR(50) NOT NULL, \n",
            "\t`taskStatus` VARCHAR(225) NOT NULL, \n",
            "\t`taskAssignee` VARCHAR(50) NOT NULL, \n",
            "\tdescription VARCHAR(255) NOT NULL, \n",
            "\tstart DATETIME NOT NULL, \n",
            "\tend DATETIME NOT NULL, \n",
            "\tpriority TEXT NOT NULL, \n",
            "\tPRIMARY KEY (id)\n",
            ")DEFAULT CHARSET=utf8mb4 COLLATE utf8mb4_general_ci ENGINE=InnoDB\n",
            "\n",
            "/*\n",
            "3 rows from tasks table:\n",
            "id\tname\ttaskStatus\ttaskAssignee\tdescription\tstart\tend\tpriority\n",
            "1\tTask 1\tCompleted\tPrithvi\tD1\t2025-01-26 17:45:52\t2025-01-28 23:22:20\tHigh\n",
            "2\tTask 2\tIn Progress\tJal\tD2\t2025-02-08 10:22:36\t2025-02-20 07:22:00\tMedium\n",
            "3\tTask 3\tIn Progress\tAakash\tD3\t2025-02-13 17:53:20\t2025-02-21 17:00:00\tLow\n",
            "*/\n"
          ]
        }
      ],
      "source": [
        "print(db.dialect)\n",
        "print(db.get_usable_table_names())\n",
        "print(db.table_info)"
      ]
    },
    {
      "cell_type": "code",
      "execution_count": null,
      "metadata": {
        "id": "Z6IfK8MV0wXy"
      },
      "outputs": [],
      "source": [
        "import os\n",
        "os.environ[\"OPENAI_API_KEY\"] = \"OPENAIKEYHERE\"\n",
        "os.environ[\"LANGCHAIN_TRACING_V2\"] = \"true\"\n",
        "LANGCHAIN_PROJECT = \"demo\"\n",
        "os.environ[\"LANGCHAIN_API_KEY\"] = \"LangchainAPI\""
      ]
    },
    {
      "cell_type": "code",
      "execution_count": null,
      "metadata": {},
      "outputs": [
        {
          "name": "stdout",
          "output_type": "stream",
          "text": [
            "```sql\n",
            "SELECT `dob` FROM `assignees` WHERE `name` = 'Prithvi';\n",
            "```\n"
          ]
        }
      ],
      "source": [
        "from langchain.chains import create_sql_query_chain\n",
        "from langchain_openai import ChatOpenAI\n",
        "\n",
        "llm = ChatOpenAI(model=\"gpt-4o\", temperature=0)\n",
        "generate_query = create_sql_query_chain(llm, db)\n",
        "query = generate_query.invoke({\"question\": \"What is the dob of `Prithvi` in `assignees` ?\"})\n",
        "# \"what is price of `1968 Ford Mustang`\"\n",
        "print(query)"
      ]
    },
    {
      "cell_type": "code",
      "execution_count": null,
      "metadata": {
        "colab": {
          "base_uri": "https://localhost:8080/"
        },
        "id": "RiCC2ZNA006l",
        "outputId": "07825658-a25a-44e0-c955-dfda99036dae"
      },
      "outputs": [
        {
          "name": "stdout",
          "output_type": "stream",
          "text": [
            "```sql\n",
            "SELECT `name`, `start`, `end` \n",
            "FROM `tasks` \n",
            "WHERE `taskAssignee` = 'Prithvi' \n",
            "LIMIT 5;\n",
            "```\n"
          ]
        }
      ],
      "source": [
        "chain = create_sql_query_chain(llm, db)\n",
        "question2 = \"Tell me the `tasks` assigned to `Prithvi`, their `start` and `end` dates from `tasks`?\"\n",
        "\n",
        "prompt2 = f\"\"\"You are a SQL assistant. Convert the following natural language question into an SQL query. Do not provide any explanation or answers, only return the SQL query. Do not change the table names or column names in the query and misinterpret the question.\n",
        "Question: {question2}\n",
        "SQL Query:\n",
        "\"\"\"\n",
        "\n",
        "# query2 = llm.invoke(prompt2)\n",
        "# print(query2.content)\n",
        "query2 = chain.invoke({\"question\": question2})\n",
        "print(query2)"
      ]
    },
    {
      "cell_type": "code",
      "execution_count": 33,
      "metadata": {
        "id": "c3mGf_Kz0AG-"
      },
      "outputs": [],
      "source": [
        "import re\n",
        "\n",
        "def clean_sql_query(text: str) -> str:\n",
        "    \"\"\"\n",
        "    Clean SQL query by removing code block syntax, various SQL tags, backticks,\n",
        "    prefixes, and unnecessary whitespace while preserving the core SQL query.\n",
        "\n",
        "    Args:\n",
        "        text (str): Raw SQL query text that may contain code blocks, tags, and backticks\n",
        "\n",
        "    Returns:\n",
        "        str: Cleaned SQL query\n",
        "    \"\"\"\n",
        "    # Step 1: Remove code block syntax and any SQL-related tags\n",
        "    # This handles variations like ```sql, ```SQL, ```SQLQuery, etc.\n",
        "    block_pattern = r\"```(?:sql|SQL|SQLQuery|mysql|postgresql)?\\s*(.*?)\\s*```\"\n",
        "    text = re.sub(block_pattern, r\"\\1\", text, flags=re.DOTALL)\n",
        "\n",
        "    # Step 2: Handle \"SQLQuery:\" prefix and similar variations\n",
        "    # This will match patterns like \"SQLQuery:\", \"SQL Query:\", \"MySQL:\", etc.\n",
        "    prefix_pattern = r\"^(?:SQL\\s*Query|SQLQuery|MySQL|PostgreSQL|SQL)\\s*:\\s*\"\n",
        "    text = re.sub(prefix_pattern, \"\", text, flags=re.IGNORECASE)\n",
        "\n",
        "    # Step 3: Extract the first SQL statement if there's random text after it\n",
        "    # Look for a complete SQL statement ending with semicolon\n",
        "    sql_statement_pattern = r\"(SELECT.*?;)\"\n",
        "    sql_match = re.search(sql_statement_pattern, text, flags=re.IGNORECASE | re.DOTALL)\n",
        "    if sql_match:\n",
        "        text = sql_match.group(1)\n",
        "\n",
        "    # Step 4: Remove backticks around identifiers\n",
        "    text = re.sub(r'`([^`]*)`', r'\\1', text)\n",
        "\n",
        "    # Step 5: Normalize whitespace\n",
        "    # Replace multiple spaces with single space\n",
        "    text = re.sub(r'\\s+', ' ', text)\n",
        "\n",
        "    # Step 6: Preserve newlines for main SQL keywords to maintain readability\n",
        "    keywords = ['SELECT', 'FROM', 'WHERE', 'GROUP BY', 'HAVING', 'ORDER BY',\n",
        "               'LIMIT', 'JOIN', 'LEFT JOIN', 'RIGHT JOIN', 'INNER JOIN',\n",
        "               'OUTER JOIN', 'UNION', 'VALUES', 'INSERT', 'UPDATE', 'DELETE']\n",
        "\n",
        "    # Case-insensitive replacement for keywords\n",
        "    pattern = '|'.join(r'\\b{}\\b'.format(k) for k in keywords)\n",
        "    text = re.sub(f'({pattern})', r'\\n\\1', text, flags=re.IGNORECASE)\n",
        "\n",
        "    # Step 7: Final cleanup\n",
        "    # Remove leading/trailing whitespace and extra newlines\n",
        "    text = text.strip()\n",
        "    text = re.sub(r'\\n\\s*\\n', '\\n', text)\n",
        "\n",
        "    return text\n"
      ]
    },
    {
      "cell_type": "code",
      "execution_count": 34,
      "metadata": {},
      "outputs": [
        {
          "name": "stdout",
          "output_type": "stream",
          "text": [
            "SELECT name, start, end \n",
            "FROM tasks \n",
            "WHERE taskAssignee = 'Prithvi' \n",
            "LIMIT 5;\n"
          ]
        }
      ],
      "source": [
        "print(clean_sql_query(query2))"
      ]
    },
    {
      "cell_type": "code",
      "execution_count": 35,
      "metadata": {
        "colab": {
          "base_uri": "https://localhost:8080/",
          "height": 36
        },
        "id": "_BxL9qfW1el6",
        "outputId": "b991c2d3-addb-48ce-ce43-8e3f6111d55e"
      },
      "outputs": [
        {
          "data": {
            "text/plain": [
              "'Error: (pymysql.err.ProgrammingError) (1064, \"You have an error in your SQL syntax; check the manual that corresponds to your MariaDB server version for the right syntax to use near \\'```sql\\\\nSELECT `dob` FROM `assignees` WHERE `name` = \\'Prithvi\\';\\\\n```\\' at line 1\")\\n[SQL: ```sql\\nSELECT `dob` FROM `assignees` WHERE `name` = \\'Prithvi\\';\\n```]\\n(Background on this error at: https://sqlalche.me/e/14/f405)'"
            ]
          },
          "execution_count": 35,
          "metadata": {},
          "output_type": "execute_result"
        }
      ],
      "source": [
        "from langchain_community.tools.sql_database.tool import QuerySQLDataBaseTool\n",
        "execute_query = QuerySQLDataBaseTool(db=db)\n",
        "execute_query.invoke(query)"
      ]
    },
    {
      "cell_type": "code",
      "execution_count": null,
      "metadata": {},
      "outputs": [],
      "source": []
    },
    {
      "cell_type": "code",
      "execution_count": 37,
      "metadata": {
        "colab": {
          "base_uri": "https://localhost:8080/",
          "height": 36
        },
        "id": "Kf2TzUe203vc",
        "outputId": "bdcd4d94-1e87-4fa2-f4e8-87faab975aba"
      },
      "outputs": [
        {
          "data": {
            "text/plain": [
              "\"[('Task 1', datetime.datetime(2025, 1, 26, 17, 45, 52), datetime.datetime(2025, 1, 28, 23, 22, 20)), ('Task 7', datetime.datetime(2025, 2, 18, 12, 36, 20), datetime.datetime(2025, 2, 19, 12, 36, 20))]\""
            ]
          },
          "execution_count": 37,
          "metadata": {},
          "output_type": "execute_result"
        }
      ],
      "source": [
        "from langchain_core.runnables import RunnablePassthrough, RunnableLambda\n",
        "\n",
        "chain = generate_query | RunnableLambda(clean_sql_query) | execute_query\n",
        "\n",
        "# chain.invoke({\"question\": \"What is the dob of `Prithvi` in `assignees` ?\"})\n",
        "chain.invoke({\"question\": \"Tell me the `tasks` assigned to `Prithvi`, their `start` and `end` dates from `tasks`?\"})"
      ]
    },
    {
      "cell_type": "code",
      "execution_count": 39,
      "metadata": {
        "colab": {
          "base_uri": "https://localhost:8080/"
        },
        "id": "WkyqNw9f1JE3",
        "outputId": "aebbb98d-992f-4043-894e-4130d111648a"
      },
      "outputs": [
        {
          "name": "stdout",
          "output_type": "stream",
          "text": [
            "You are a MySQL expert. Given an input question, first create a syntactically correct MySQL query to run, then look at the results of the query and return the answer to the input question.\n",
            "Unless the user specifies in the question a specific number of examples to obtain, query for at most 5 results using the LIMIT clause as per MySQL. You can order the results to return the most informative data in the database.\n",
            "Never query for all columns from a table. You must query only the columns that are needed to answer the question. Wrap each column name in backticks (`) to denote them as delimited identifiers.\n",
            "Pay attention to use only the column names you can see in the tables below. Be careful to not query for columns that do not exist. Also, pay attention to which column is in which table.\n",
            "Pay attention to use CURDATE() function to get the current date, if the question involves \"today\".\n",
            "\n",
            "Use the following format:\n",
            "\n",
            "Question: Question here\n",
            "SQLQuery: SQL Query to run\n",
            "SQLResult: Result of the SQLQuery\n",
            "Answer: Final answer here\n",
            "\n",
            "Only use the following tables:\n",
            "\u001b[33;1m\u001b[1;3m{table_info}\u001b[0m\n",
            "\n",
            "Question: \u001b[33;1m\u001b[1;3m{input}\u001b[0m\n"
          ]
        }
      ],
      "source": [
        "chain.get_prompts()[0].pretty_print()"
      ]
    },
    {
      "cell_type": "code",
      "execution_count": 43,
      "metadata": {
        "colab": {
          "base_uri": "https://localhost:8080/",
          "height": 36
        },
        "id": "KVCYCPpU2s1d",
        "outputId": "77d5b84d-6608-4cd9-cda3-3f621abead67"
      },
      "outputs": [
        {
          "data": {
            "text/plain": [
              "'Here are the tasks assigned to Prithvi, along with their start and end dates:\\n\\n1. **Task Name:** Task 1\\n   - **Start Date:** January 26, 2025, 17:45:52\\n   - **End Date:** January 28, 2025, 23:22:20\\n\\n2. **Task Name:** Task 7\\n   - **Start Date:** February 18, 2025, 12:36:20\\n   - **End Date:** February 19, 2025, 12:36:20\\n\\nThese are the tasks currently assigned to Prithvi, limited to the first two entries.'"
            ]
          },
          "execution_count": 43,
          "metadata": {},
          "output_type": "execute_result"
        }
      ],
      "source": [
        "from operator import itemgetter\n",
        "\n",
        "from langchain_core.output_parsers import StrOutputParser\n",
        "from langchain_core.prompts import PromptTemplate\n",
        "from langchain_core.runnables import RunnablePassthrough, RunnableLambda\n",
        "\n",
        "answer_prompt = PromptTemplate.from_template(\n",
        "    \"\"\"Given the following user question, corresponding SQL query, and SQL result, format the answer in a clean, structured manner.\n",
        "\n",
        "User Question:\n",
        "{question}  \n",
        "\n",
        "SQL Query:\n",
        "```sql\n",
        "{query}\n",
        "SQL Result:\n",
        "{result}\n",
        "\n",
        "Formatted Answer:\n",
        "Please present the answer with all the details in a structured format and ensure that the response is clear and concise.\n",
        "\n",
        "Answer: \"\"\" )\n",
        "\n",
        "rephrase_answer = answer_prompt | llm | StrOutputParser()\n",
        "\n",
        "chain = (\n",
        "    RunnablePassthrough.assign(query=generate_query | RunnableLambda(clean_sql_query)).assign(\n",
        "        result=itemgetter(\"query\") | execute_query\n",
        "    )\n",
        "    | rephrase_answer\n",
        ")\n",
        "\n",
        "chain.invoke({\"question\": \"Tell me the `tasks` assigned to `Prithvi`, their `start` and `end` dates from `tasks`?\"})"
      ]
    },
    {
      "cell_type": "markdown",
      "metadata": {
        "id": "uPkoDITyWfxG"
      },
      "source": [
        "###Adding few-shot examples"
      ]
    },
    {
      "cell_type": "code",
      "execution_count": null,
      "metadata": {
        "id": "qJZ8vYwD3I4m"
      },
      "outputs": [],
      "source": [
        "examples = [\n",
        "    {\n",
        "        \"input\": \"List all customers in France with a credit limit over 20,000.\",\n",
        "        \"query\": \"SELECT * FROM customers WHERE country = 'France' AND creditLimit > 20000;\"\n",
        "    },\n",
        "    {\n",
        "        \"input\": \"Get the highest payment amount made by any customer.\",\n",
        "        \"query\": \"SELECT MAX(amount) FROM payments;\"\n",
        "    },\n",
        "    {\n",
        "        \"input\": \"Show product details for products in the 'Motorcycles' product line.\",\n",
        "        \"query\": \"SELECT * FROM products WHERE productLine = 'Motorcycles';\"\n",
        "    },\n",
        "    {\n",
        "        \"input\": \"Retrieve the names of employees who report to employee number 1002.\",\n",
        "        \"query\": \"SELECT firstName, lastName FROM employees WHERE reportsTo = 1002;\"\n",
        "    },\n",
        "    {\n",
        "        \"input\": \"List all products with a stock quantity less than 7000.\",\n",
        "        \"query\": \"SELECT productName, quantityInStock FROM products WHERE quantityInStock < 7000;\"\n",
        "    },\n",
        "    {\n",
        "     'input':\"what is price of `1968 Ford Mustang`\",\n",
        "     \"query\": \"SELECT `buyPrice`, `MSRP` FROM products  WHERE `productName` = '1968 Ford Mustang' LIMIT 1;\"\n",
        "    }\n",
        "]"
      ]
    },
    {
      "cell_type": "code",
      "execution_count": null,
      "metadata": {
        "colab": {
          "base_uri": "https://localhost:8080/"
        },
        "id": "H3sLLayg3WV6",
        "outputId": "0abd9ee6-dab0-487d-e0c9-fd0f07e7a266"
      },
      "outputs": [
        {
          "name": "stdout",
          "output_type": "stream",
          "text": [
            "Human: List all customers in France with a credit limit over 20,000.\n",
            "SQLQuery:\n",
            "AI: SELECT * FROM customers WHERE country = 'France' AND creditLimit > 20000;\n",
            "Human: Get the highest payment amount made by any customer.\n",
            "SQLQuery:\n",
            "AI: SELECT MAX(amount) FROM payments;\n",
            "Human: Show product details for products in the 'Motorcycles' product line.\n",
            "SQLQuery:\n",
            "AI: SELECT * FROM products WHERE productLine = 'Motorcycles';\n",
            "Human: Retrieve the names of employees who report to employee number 1002.\n",
            "SQLQuery:\n",
            "AI: SELECT firstName, lastName FROM employees WHERE reportsTo = 1002;\n",
            "Human: List all products with a stock quantity less than 7000.\n",
            "SQLQuery:\n",
            "AI: SELECT productName, quantityInStock FROM products WHERE quantityInStock < 7000;\n",
            "Human: what is price of `1968 Ford Mustang`\n",
            "SQLQuery:\n",
            "AI: SELECT `buyPrice`, `MSRP` FROM products  WHERE `productName` = '1968 Ford Mustang' LIMIT 1;\n"
          ]
        }
      ],
      "source": [
        "from langchain_core.prompts import ChatPromptTemplate, MessagesPlaceholder,FewShotChatMessagePromptTemplate,PromptTemplate\n",
        "\n",
        "example_prompt = ChatPromptTemplate.from_messages(\n",
        "    [\n",
        "        (\"human\", \"{input}\\nSQLQuery:\"),\n",
        "        (\"ai\", \"{query}\"),\n",
        "    ]\n",
        ")\n",
        "few_shot_prompt = FewShotChatMessagePromptTemplate(\n",
        "    example_prompt=example_prompt,\n",
        "    examples=examples,\n",
        "    # input_variables=[\"input\",\"top_k\"],\n",
        "    input_variables=[\"input\"],\n",
        ")\n",
        "print(few_shot_prompt.format(input1=\"How many products are there?\"))"
      ]
    },
    {
      "cell_type": "markdown",
      "metadata": {
        "id": "JRjiZ1O-WkX5"
      },
      "source": [
        "###Dynamic few-shot example selection"
      ]
    },
    {
      "cell_type": "code",
      "execution_count": null,
      "metadata": {
        "colab": {
          "base_uri": "https://localhost:8080/"
        },
        "id": "FLLY5GkD4FaJ",
        "outputId": "619ea43f-c483-4fc0-e3f8-f1f0db1c49f0"
      },
      "outputs": [
        {
          "data": {
            "text/plain": [
              "[{'input': 'Retrieve the names of employees who report to employee number 1002.',\n",
              "  'query': 'SELECT firstName, lastName FROM employees WHERE reportsTo = 1002;'},\n",
              " {'input': 'List all customers in France with a credit limit over 20,000.',\n",
              "  'query': \"SELECT * FROM customers WHERE country = 'France' AND creditLimit > 20000;\"}]"
            ]
          },
          "execution_count": 17,
          "metadata": {},
          "output_type": "execute_result"
        }
      ],
      "source": [
        "from langchain_chroma import Chroma\n",
        "from langchain_core.example_selectors import SemanticSimilarityExampleSelector\n",
        "from langchain_openai import OpenAIEmbeddings\n",
        "\n",
        "vectorstore = Chroma()\n",
        "vectorstore.delete_collection()\n",
        "example_selector = SemanticSimilarityExampleSelector.from_examples(\n",
        "    examples,\n",
        "    OpenAIEmbeddings(),\n",
        "    vectorstore,\n",
        "    k=2,\n",
        "    input_keys=[\"input\"],\n",
        ")\n",
        "example_selector.select_examples({\"input\": \"how many employees we have?\"})\n",
        "# example_selector.select_examples({\"input\": \"How many employees?\"})"
      ]
    },
    {
      "cell_type": "code",
      "execution_count": null,
      "metadata": {
        "colab": {
          "base_uri": "https://localhost:8080/"
        },
        "id": "4rID0Q0d4jHj",
        "outputId": "ab272db8-d97a-4d8b-e424-7eec496198da"
      },
      "outputs": [
        {
          "name": "stdout",
          "output_type": "stream",
          "text": [
            "Human: List all products with a stock quantity less than 7000.\n",
            "SQLQuery:\n",
            "AI: SELECT productName, quantityInStock FROM products WHERE quantityInStock < 7000;\n",
            "Human: Show product details for products in the 'Motorcycles' product line.\n",
            "SQLQuery:\n",
            "AI: SELECT * FROM products WHERE productLine = 'Motorcycles';\n"
          ]
        }
      ],
      "source": [
        "few_shot_prompt = FewShotChatMessagePromptTemplate(\n",
        "    example_prompt=example_prompt,\n",
        "    example_selector=example_selector,\n",
        "    input_variables=[\"input\",\"top_k\"],\n",
        ")\n",
        "print(few_shot_prompt.format(input=\"How many products are there?\"))"
      ]
    },
    {
      "cell_type": "markdown",
      "metadata": {
        "id": "72ZSFWBeW_tE"
      },
      "source": [
        "Customizing prompts"
      ]
    },
    {
      "cell_type": "code",
      "execution_count": null,
      "metadata": {
        "colab": {
          "base_uri": "https://localhost:8080/"
        },
        "id": "PCnlv2pd469x",
        "outputId": "cc107925-e90d-4d4b-c936-a95c7a5fcb3b"
      },
      "outputs": [
        {
          "name": "stdout",
          "output_type": "stream",
          "text": [
            "System: You are a MySQL expert. Given an input question, create a syntactically correct MySQL query to run. Unless otherwise specificed.\n",
            "\n",
            "Here is the relevant table info: some table info\n",
            "\n",
            "Below are a number of examples of questions and their corresponding SQL queries.\n",
            "Human: List all products with a stock quantity less than 7000.\n",
            "SQLQuery:\n",
            "AI: SELECT productName, quantityInStock FROM products WHERE quantityInStock < 7000;\n",
            "Human: Show product details for products in the 'Motorcycles' product line.\n",
            "SQLQuery:\n",
            "AI: SELECT * FROM products WHERE productLine = 'Motorcycles';\n",
            "Human: How many products are there?\n"
          ]
        }
      ],
      "source": [
        "final_prompt = ChatPromptTemplate.from_messages(\n",
        "    [\n",
        "        (\"system\", \"You are a MySQL expert. Given an input question, create a syntactically correct MySQL query to run. Unless otherwise specificed.\\n\\nHere is the relevant table info: {table_info}\\n\\nBelow are a number of examples of questions and their corresponding SQL queries.\"),\n",
        "        few_shot_prompt,\n",
        "        (\"human\", \"{input}\"),\n",
        "    ]\n",
        ")\n",
        "print(final_prompt.format(input=\"How many products are there?\",table_info=\"some table info\"))"
      ]
    },
    {
      "cell_type": "code",
      "execution_count": null,
      "metadata": {
        "colab": {
          "base_uri": "https://localhost:8080/",
          "height": 36
        },
        "id": "eN7UFbYs5ULO",
        "outputId": "b4c8ced0-dd39-4df2-fa3d-c2a000a9d64f"
      },
      "outputs": [
        {
          "data": {
            "application/vnd.google.colaboratory.intrinsic+json": {
              "type": "string"
            },
            "text/plain": [
              "'There are 85 customers with a credit limit more than 50,000.'"
            ]
          },
          "execution_count": 20,
          "metadata": {},
          "output_type": "execute_result"
        }
      ],
      "source": [
        "generate_query = create_sql_query_chain(llm, db,final_prompt)\n",
        "\n",
        "chain = (\n",
        "    RunnablePassthrough.assign(query=generate_query | RunnableLambda(clean_sql_query)).assign(\n",
        "        result=itemgetter(\"query\") | execute_query\n",
        "    )\n",
        "    | rephrase_answer\n",
        ")\n",
        "\n",
        "chain.invoke({\"question\": \"How many csutomers with credit limit more than 50000\"})"
      ]
    },
    {
      "cell_type": "markdown",
      "metadata": {
        "id": "VzLDjfdJWxQ0"
      },
      "source": [
        "###Dynamic relevant table selection"
      ]
    },
    {
      "cell_type": "code",
      "execution_count": null,
      "metadata": {
        "colab": {
          "base_uri": "https://localhost:8080/"
        },
        "id": "fuTfq0e-6Mgi",
        "outputId": "c6e8ffe0-e249-4df2-9c16-1290890aae71"
      },
      "outputs": [
        {
          "name": "stdout",
          "output_type": "stream",
          "text": [
            "Table Name:productlines\n",
            "Table Description:Stores information about the different product lines offered by the company, including a unique name, textual description, HTML description, and image. Categorizes products into different lines.\n",
            "\n",
            "Table Name:products\n",
            "Table Description:Contains details of each product sold by the company, including code, name, product line, scale, vendor, description, stock quantity, buy price, and MSRP. Linked to the productlines table.\n",
            "\n",
            "Table Name:offices\n",
            "Table Description:Holds data on the company's sales offices, including office code, city, phone number, address, state, country, postal code, and territory. Each office is uniquely identified by its office code.\n",
            "\n",
            "Table Name:employees\n",
            "Table Description:Stores information about employees, including number, last name, first name, job title, contact info, and office code. Links to offices and maps organizational structure through the reportsTo attribute.\n",
            "\n",
            "Table Name:customers\n",
            "Table Description:Captures data on customers, including customer number, name, contact details, address, assigned sales rep, and credit limit. Central to managing customer relationships and sales processes.\n",
            "\n",
            "Table Name:payments\n",
            "Table Description:Records payments made by customers, tracking the customer number, check number, payment date, and amount. Linked to the customers table for financial tracking and account management.\n",
            "\n",
            "Table Name:orders\n",
            "Table Description:Details each sales order placed by customers, including order number, dates, status, comments, and customer number. Linked to the customers table, tracking sales transactions.\n",
            "\n",
            "Table Name:orderdetails\n",
            "Table Description:Describes individual line items for each sales order, including order number, product code, quantity, price, and order line number. Links orders to products, detailing the items sold.\n",
            "\n",
            "\n"
          ]
        }
      ],
      "source": [
        "from operator import itemgetter\n",
        "#from langchain.chains.openai_tools import create_extraction_chain_pydantic\n",
        "from pydantic import BaseModel, Field\n",
        "from typing import List\n",
        "import pandas as pd\n",
        "\n",
        "def get_table_details():\n",
        "    # Read the CSV file into a DataFrame\n",
        "    table_description = pd.read_csv(\"/content/database_table_descriptions.csv\")\n",
        "    table_docs = []\n",
        "\n",
        "    # Iterate over the DataFrame rows to create Document objects\n",
        "    table_details = \"\"\n",
        "    for index, row in table_description.iterrows():\n",
        "        table_details = table_details + \"Table Name:\" + row['table_name'] + \"\\n\" + \"Table Description:\" + row['description'] + \"\\n\\n\"\n",
        "\n",
        "    return table_details\n",
        "\n",
        "\n",
        "class Table(BaseModel):\n",
        "    \"\"\"Table in SQL database.\"\"\"\n",
        "\n",
        "    name: List[str] = Field(description=\"List of Name of tables in SQL database.\")\n",
        "\n",
        "# table_names = \"\\n\".join(db.get_usable_table_names())\n",
        "table_details = get_table_details()\n",
        "print(table_details)"
      ]
    },
    {
      "cell_type": "code",
      "execution_count": null,
      "metadata": {
        "colab": {
          "base_uri": "https://localhost:8080/"
        },
        "id": "GA1TjUgm7EST",
        "outputId": "bd85b094-8fa1-4915-fea2-a246f3ece42b"
      },
      "outputs": [
        {
          "data": {
            "text/plain": [
              "Table(name=['customers', 'orders'])"
            ]
          },
          "execution_count": 27,
          "metadata": {},
          "output_type": "execute_result"
        }
      ],
      "source": [
        "table_details_prompt = ChatPromptTemplate.from_messages(\n",
        "        [\n",
        "            (\"system\", \"\"\"Return the names of ALL the SQL tables that MIGHT be relevant to the user question.\n",
        "                          The tables are:\n",
        "\n",
        "                          {table_details}\n",
        "\n",
        "                          Remember to include ALL POTENTIALLY RELEVANT tables, even if you're not sure that they're needed.\"\"\"),\n",
        "            (\"human\", \"{question}\")\n",
        "        ]\n",
        "    )\n",
        "\n",
        "structured_llm = llm.with_structured_output(Table)\n",
        "\n",
        "table_chain = table_details_prompt | structured_llm\n",
        "tables = table_chain.invoke({\"question\": \"give me details of customer and their order count\", \"table_details\":table_details})\n",
        "tables"
      ]
    },
    {
      "cell_type": "code",
      "execution_count": null,
      "metadata": {
        "colab": {
          "base_uri": "https://localhost:8080/"
        },
        "id": "rTf1SphE69Xf",
        "outputId": "b4abd7c9-fa49-4c64-bd46-ac55287867ed"
      },
      "outputs": [
        {
          "data": {
            "text/plain": [
              "['customers', 'orders']"
            ]
          },
          "execution_count": 33,
          "metadata": {},
          "output_type": "execute_result"
        }
      ],
      "source": [
        "def get_tables(table_response: Table) -> List[str]:\n",
        "    \"\"\"\n",
        "    Extracts the list of table names from a Table object.\n",
        "\n",
        "    Args:\n",
        "        table_response (Table): A Pydantic Table object containing table names.\n",
        "\n",
        "    Returns:\n",
        "        List[str]: A list of table names.\n",
        "    \"\"\"\n",
        "    return table_response.name\n",
        "\n",
        "select_table = {\"question\": itemgetter(\"question\"), \"table_details\": itemgetter(\"table_details\")} | table_chain | get_tables\n",
        "select_table.invoke({\"question\": \"give me details of customer and their order count\", \"table_details\":table_details})"
      ]
    },
    {
      "cell_type": "code",
      "execution_count": null,
      "metadata": {
        "colab": {
          "base_uri": "https://localhost:8080/",
          "height": 36
        },
        "id": "6DyhowwN71ts",
        "outputId": "c4292053-dcd6-4dd7-8e8c-038174e54de8"
      },
      "outputs": [
        {
          "data": {
            "application/vnd.google.colaboratory.intrinsic+json": {
              "type": "string"
            },
            "text/plain": [
              "'There are 2 customers with an order count of more than 5.'"
            ]
          },
          "execution_count": 35,
          "metadata": {},
          "output_type": "execute_result"
        }
      ],
      "source": [
        "chain = (\n",
        "RunnablePassthrough.assign(table_names_to_use=select_table) |\n",
        "RunnablePassthrough.assign(query=generate_query | RunnableLambda(clean_sql_query)).assign(\n",
        "    result=itemgetter(\"query\") | execute_query\n",
        ")\n",
        "| rephrase_answer\n",
        ")\n",
        "chain.invoke({\"question\": \"How many cutomers with order count more than 5\", \"table_details\":table_details})"
      ]
    },
    {
      "cell_type": "code",
      "execution_count": null,
      "metadata": {
        "colab": {
          "base_uri": "https://localhost:8080/",
          "height": 53
        },
        "id": "2GGHwgnI8T7i",
        "outputId": "78ad0dc3-ed2e-4f96-c0f8-363d760ad031"
      },
      "outputs": [
        {
          "data": {
            "application/vnd.google.colaboratory.intrinsic+json": {
              "type": "string"
            },
            "text/plain": [
              "\"The names of the customers are:\\n\\n1. Atelier graphique\\n2. La Rochelle Gifts\\n3. Saveley & Henriot, Co.\\n4. Daedalus Designs Imports\\n5. La Corne D'abondance, Co.\\n6. Mini Caravy\\n7. Alpha Cognac\\n8. Lyon Souveniers\\n9. Auto Associés & Cie.\\n10. Marseille Mini Autos\\n11. Reims Collectables\\n12. Auto Canal+ Petit\""
            ]
          },
          "execution_count": 36,
          "metadata": {},
          "output_type": "execute_result"
        }
      ],
      "source": [
        "chain.invoke({\"question\": \"Can you list their names?\", \"table_details\":table_details})"
      ]
    },
    {
      "cell_type": "markdown",
      "metadata": {
        "id": "dvy70bh0W28Q"
      },
      "source": [
        "###Adding memory to the chatbot so that it answers follow-up questions related to the database.\n",
        "\n",
        "\n",
        "\n",
        "\n"
      ]
    },
    {
      "cell_type": "code",
      "execution_count": null,
      "metadata": {
        "colab": {
          "base_uri": "https://localhost:8080/"
        },
        "id": "StZ_P_5_87L6",
        "outputId": "7f7d8aae-2acd-4663-db5f-c1953b5ce68e"
      },
      "outputs": [
        {
          "name": "stdout",
          "output_type": "stream",
          "text": [
            "System: You are a MySQL expert. Given an input question, create a syntactically correct MySQL query to run. Unless otherwise specificed.\n",
            "\n",
            "Here is the relevant table info: some table info\n",
            "\n",
            "Below are a number of examples of questions and their corresponding SQL queries. Those examples are just for referecne and hsould be considered while answering follow up questions\n",
            "Human: List all products with a stock quantity less than 7000.\n",
            "SQLQuery:\n",
            "AI: SELECT productName, quantityInStock FROM products WHERE quantityInStock < 7000;\n",
            "Human: Show product details for products in the 'Motorcycles' product line.\n",
            "SQLQuery:\n",
            "AI: SELECT * FROM products WHERE productLine = 'Motorcycles';\n",
            "Human: How many products are there?\n"
          ]
        }
      ],
      "source": [
        "final_prompt = ChatPromptTemplate.from_messages(\n",
        "    [\n",
        "        (\"system\", \"You are a MySQL expert. Given an input question, create a syntactically correct MySQL query to run. Unless otherwise specificed.\\n\\nHere is the relevant table info: {table_info}\\n\\nBelow are a number of examples of questions and their corresponding SQL queries. Those examples are just for referecne and hsould be considered while answering follow up questions\"),\n",
        "        few_shot_prompt,\n",
        "        MessagesPlaceholder(variable_name=\"messages\"),\n",
        "        (\"human\", \"{input}\"),\n",
        "    ]\n",
        ")\n",
        "print(final_prompt.format(input=\"How many products are there?\",table_info=\"some table info\",messages=[]))"
      ]
    },
    {
      "cell_type": "code",
      "execution_count": null,
      "metadata": {
        "id": "OmXe-uWJ8lvt"
      },
      "outputs": [],
      "source": [
        "from langchain.memory import ChatMessageHistory\n",
        "history = ChatMessageHistory()\n",
        "\n",
        "generate_query = create_sql_query_chain(llm, db,final_prompt)\n",
        "\n",
        "chain = (\n",
        "RunnablePassthrough.assign(table_names_to_use=select_table) |\n",
        "RunnablePassthrough.assign(query=generate_query | RunnableLambda(clean_sql_query)).assign(\n",
        "    result=itemgetter(\"query\") | execute_query\n",
        ")\n",
        "| rephrase_answer\n",
        ")\n"
      ]
    },
    {
      "cell_type": "code",
      "execution_count": null,
      "metadata": {
        "colab": {
          "base_uri": "https://localhost:8080/",
          "height": 36
        },
        "id": "6x-mjNpo9lc8",
        "outputId": "64a854e9-71f1-4614-8f21-f89d2a2bedde"
      },
      "outputs": [
        {
          "data": {
            "application/vnd.google.colaboratory.intrinsic+json": {
              "type": "string"
            },
            "text/plain": [
              "'There are 2 customers with an order count of more than 5.'"
            ]
          },
          "execution_count": 39,
          "metadata": {},
          "output_type": "execute_result"
        }
      ],
      "source": [
        "question = \"How many cutomers with order count more than 5\"\n",
        "response = chain.invoke({\"question\": question,\"messages\":history.messages, \"table_details\":table_details})\n",
        "response"
      ]
    },
    {
      "cell_type": "code",
      "execution_count": null,
      "metadata": {
        "id": "k98Hmj2Y9mvk"
      },
      "outputs": [],
      "source": [
        "history.add_user_message(question)\n",
        "history.add_ai_message(response)\n"
      ]
    },
    {
      "cell_type": "code",
      "execution_count": null,
      "metadata": {
        "colab": {
          "base_uri": "https://localhost:8080/"
        },
        "id": "x9DLodzOonza",
        "outputId": "3e1906be-ad02-478c-e6dd-6762f3390ba0"
      },
      "outputs": [
        {
          "data": {
            "text/plain": [
              "[HumanMessage(content='How many cutomers with order count more than 5', additional_kwargs={}, response_metadata={}),\n",
              " AIMessage(content='There are 2 customers with an order count of more than 5.', additional_kwargs={}, response_metadata={})]"
            ]
          },
          "execution_count": 41,
          "metadata": {},
          "output_type": "execute_result"
        }
      ],
      "source": [
        "history.messages"
      ]
    },
    {
      "cell_type": "code",
      "execution_count": 1,
      "metadata": {
        "colab": {
          "base_uri": "https://localhost:8080/",
          "height": 36
        },
        "id": "ptN_RIoI-CZX",
        "outputId": "424b3d03-3995-4560-fed9-4a1b0fc7c818"
      },
      "outputs": [
        {
          "ename": "KeyboardInterrupt",
          "evalue": "",
          "output_type": "error",
          "traceback": [
            "\u001b[0;31m---------------------------------------------------------------------------\u001b[0m",
            "\u001b[0;31mKeyboardInterrupt\u001b[0m                         Traceback (most recent call last)",
            "Cell \u001b[0;32mIn[1], line 1\u001b[0m\n\u001b[0;32m----> 1\u001b[0m response \u001b[38;5;241m=\u001b[39m chain\u001b[38;5;241m.\u001b[39minvoke({\u001b[38;5;124m\"\u001b[39m\u001b[38;5;124mquestion\u001b[39m\u001b[38;5;124m\"\u001b[39m: \u001b[38;5;124m\"\u001b[39m\u001b[38;5;124mCan you list there names?\u001b[39m\u001b[38;5;124m\"\u001b[39m,\u001b[38;5;124m\"\u001b[39m\u001b[38;5;124mmessages\u001b[39m\u001b[38;5;124m\"\u001b[39m:history\u001b[38;5;241m.\u001b[39mmessages, \u001b[38;5;124m\"\u001b[39m\u001b[38;5;124mtable_details\u001b[39m\u001b[38;5;124m\"\u001b[39m:table_details})\n\u001b[1;32m      2\u001b[0m response\n",
            "Cell \u001b[0;32mIn[1], line 1\u001b[0m\n\u001b[0;32m----> 1\u001b[0m response \u001b[38;5;241m=\u001b[39m chain\u001b[38;5;241m.\u001b[39minvoke({\u001b[38;5;124m\"\u001b[39m\u001b[38;5;124mquestion\u001b[39m\u001b[38;5;124m\"\u001b[39m: \u001b[38;5;124m\"\u001b[39m\u001b[38;5;124mCan you list there names?\u001b[39m\u001b[38;5;124m\"\u001b[39m,\u001b[38;5;124m\"\u001b[39m\u001b[38;5;124mmessages\u001b[39m\u001b[38;5;124m\"\u001b[39m:history\u001b[38;5;241m.\u001b[39mmessages, \u001b[38;5;124m\"\u001b[39m\u001b[38;5;124mtable_details\u001b[39m\u001b[38;5;124m\"\u001b[39m:table_details})\n\u001b[1;32m      2\u001b[0m response\n",
            "File \u001b[0;32m_pydevd_bundle/pydevd_cython.pyx:1457\u001b[0m, in \u001b[0;36m_pydevd_bundle.pydevd_cython.SafeCallWrapper.__call__\u001b[0;34m()\u001b[0m\n",
            "File \u001b[0;32m_pydevd_bundle/pydevd_cython.pyx:701\u001b[0m, in \u001b[0;36m_pydevd_bundle.pydevd_cython.PyDBFrame.trace_dispatch\u001b[0;34m()\u001b[0m\n",
            "File \u001b[0;32m_pydevd_bundle/pydevd_cython.pyx:1152\u001b[0m, in \u001b[0;36m_pydevd_bundle.pydevd_cython.PyDBFrame.trace_dispatch\u001b[0;34m()\u001b[0m\n",
            "File \u001b[0;32m_pydevd_bundle/pydevd_cython.pyx:1135\u001b[0m, in \u001b[0;36m_pydevd_bundle.pydevd_cython.PyDBFrame.trace_dispatch\u001b[0;34m()\u001b[0m\n",
            "File \u001b[0;32m_pydevd_bundle/pydevd_cython.pyx:312\u001b[0m, in \u001b[0;36m_pydevd_bundle.pydevd_cython.PyDBFrame.do_wait_suspend\u001b[0;34m()\u001b[0m\n",
            "File \u001b[0;32m~/anaconda3/lib/python3.11/site-packages/debugpy/_vendored/pydevd/pydevd.py:2070\u001b[0m, in \u001b[0;36mPyDB.do_wait_suspend\u001b[0;34m(self, thread, frame, event, arg, exception_type)\u001b[0m\n\u001b[1;32m   2067\u001b[0m             from_this_thread\u001b[38;5;241m.\u001b[39mappend(frame_custom_thread_id)\n\u001b[1;32m   2069\u001b[0m     \u001b[38;5;28;01mwith\u001b[39;00m \u001b[38;5;28mself\u001b[39m\u001b[38;5;241m.\u001b[39m_threads_suspended_single_notification\u001b[38;5;241m.\u001b[39mnotify_thread_suspended(thread_id, thread, stop_reason):\n\u001b[0;32m-> 2070\u001b[0m         keep_suspended \u001b[38;5;241m=\u001b[39m \u001b[38;5;28mself\u001b[39m\u001b[38;5;241m.\u001b[39m_do_wait_suspend(thread, frame, event, arg, suspend_type, from_this_thread, frames_tracker)\n\u001b[1;32m   2072\u001b[0m frames_list \u001b[38;5;241m=\u001b[39m \u001b[38;5;28;01mNone\u001b[39;00m\n\u001b[1;32m   2074\u001b[0m \u001b[38;5;28;01mif\u001b[39;00m keep_suspended:\n\u001b[1;32m   2075\u001b[0m     \u001b[38;5;66;03m# This means that we should pause again after a set next statement.\u001b[39;00m\n",
            "File \u001b[0;32m~/anaconda3/lib/python3.11/site-packages/debugpy/_vendored/pydevd/pydevd.py:2106\u001b[0m, in \u001b[0;36mPyDB._do_wait_suspend\u001b[0;34m(self, thread, frame, event, arg, suspend_type, from_this_thread, frames_tracker)\u001b[0m\n\u001b[1;32m   2103\u001b[0m         \u001b[38;5;28mself\u001b[39m\u001b[38;5;241m.\u001b[39m_call_input_hook()\n\u001b[1;32m   2105\u001b[0m     \u001b[38;5;28mself\u001b[39m\u001b[38;5;241m.\u001b[39mprocess_internal_commands()\n\u001b[0;32m-> 2106\u001b[0m     time\u001b[38;5;241m.\u001b[39msleep(\u001b[38;5;241m0.01\u001b[39m)\n\u001b[1;32m   2108\u001b[0m \u001b[38;5;28mself\u001b[39m\u001b[38;5;241m.\u001b[39mcancel_async_evaluation(get_current_thread_id(thread), \u001b[38;5;28mstr\u001b[39m(\u001b[38;5;28mid\u001b[39m(frame)))\n\u001b[1;32m   2110\u001b[0m \u001b[38;5;66;03m# process any stepping instructions\u001b[39;00m\n",
            "\u001b[0;31mKeyboardInterrupt\u001b[0m: "
          ]
        }
      ],
      "source": [
        "response = chain.invoke({\"question\": \"Can you list there names?\",\"messages\":history.messages, \"table_details\":table_details})\n",
        "response"
      ]
    },
    {
      "cell_type": "code",
      "execution_count": null,
      "metadata": {
        "id": "HVhNmBZcotjH"
      },
      "outputs": [],
      "source": []
    }
  ],
  "metadata": {
    "colab": {
      "provenance": []
    },
    "kernelspec": {
      "display_name": "base",
      "language": "python",
      "name": "python3"
    },
    "language_info": {
      "codemirror_mode": {
        "name": "ipython",
        "version": 3
      },
      "file_extension": ".py",
      "mimetype": "text/x-python",
      "name": "python",
      "nbconvert_exporter": "python",
      "pygments_lexer": "ipython3",
      "version": "3.11.4"
    }
  },
  "nbformat": 4,
  "nbformat_minor": 0
}
